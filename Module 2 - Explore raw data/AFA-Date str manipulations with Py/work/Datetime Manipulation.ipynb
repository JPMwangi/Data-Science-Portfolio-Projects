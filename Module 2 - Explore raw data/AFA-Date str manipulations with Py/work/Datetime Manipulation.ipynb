{
 "cells": [
  {
   "cell_type": "markdown",
   "id": "bb44bda2",
   "metadata": {},
   "source": [
    "## Datetime functions to remember. "
   ]
  },
  {
   "cell_type": "code",
   "execution_count": 1,
   "id": "ef3b390b",
   "metadata": {},
   "outputs": [],
   "source": [
    "from datetime import datetime"
   ]
  },
  {
   "cell_type": "code",
   "execution_count": 2,
   "id": "f3cb27ea",
   "metadata": {},
   "outputs": [
    {
     "data": {
      "text/plain": [
       "datetime.datetime(2022, 11, 25, 0, 0)"
      ]
     },
     "execution_count": 2,
     "metadata": {},
     "output_type": "execute_result"
    }
   ],
   "source": [
    "# input a string for a date and output is a datetime object\n",
    "dt_object = datetime.strptime('25/11/2022', '%d/%m/%Y')\n",
    "dt_object"
   ]
  },
  {
   "cell_type": "code",
   "execution_count": 7,
   "id": "275013fd",
   "metadata": {},
   "outputs": [
    {
     "data": {
      "text/plain": [
       "datetime.datetime(2022, 11, 25, 0, 0)"
      ]
     },
     "execution_count": 7,
     "metadata": {},
     "output_type": "execute_result"
    }
   ],
   "source": [
    "# input a string for a date and output is a datetime object.\n",
    "dt_object = datetime.strptime('25/11/2022', '%d/%m/%Y')\n",
    "dt_object"
   ]
  },
  {
   "cell_type": "code",
   "execution_count": 3,
   "id": "e9e8e74c",
   "metadata": {},
   "outputs": [
    {
     "data": {
      "text/plain": [
       "'25/11/2022'"
      ]
     },
     "execution_count": 3,
     "metadata": {},
     "output_type": "execute_result"
    }
   ],
   "source": [
    "# output is a datetime object.\n",
    "datetime.strftime(dt_object, '%d/%m/%Y')"
   ]
  },
  {
   "cell_type": "code",
   "execution_count": 8,
   "id": "295827e8",
   "metadata": {},
   "outputs": [
    {
     "data": {
      "text/plain": [
       "'25/11/2022'"
      ]
     },
     "execution_count": 8,
     "metadata": {},
     "output_type": "execute_result"
    }
   ],
   "source": [
    "# output is a datetime object.\n",
    "datetime.strftime(dt_object, '%d/%m/%Y') "
   ]
  },
  {
   "cell_type": "code",
   "execution_count": 4,
   "id": "a34df167",
   "metadata": {},
   "outputs": [
    {
     "data": {
      "text/plain": [
       "1669323600.0"
      ]
     },
     "execution_count": 4,
     "metadata": {},
     "output_type": "execute_result"
    }
   ],
   "source": [
    "# here, we get a float as an output\n",
    "datetime.timestamp(dt_object)"
   ]
  },
  {
   "cell_type": "code",
   "execution_count": 5,
   "id": "0059e81c",
   "metadata": {},
   "outputs": [
    {
     "data": {
      "text/plain": [
       "'2022-11-25'"
      ]
     },
     "execution_count": 5,
     "metadata": {},
     "output_type": "execute_result"
    }
   ],
   "source": [
    "# string to a string.\n",
    "datetime.strptime('25/11/2022', '%d/%m/%Y').strftime('%Y-%m-%d')"
   ]
  },
  {
   "cell_type": "code",
   "execution_count": 6,
   "id": "d1cc89f0",
   "metadata": {},
   "outputs": [
    {
     "data": {
      "text/plain": [
       "datetime.datetime(2021, 4, 8, 2, 0)"
      ]
     },
     "execution_count": 6,
     "metadata": {},
     "output_type": "execute_result"
    }
   ],
   "source": [
    "# float/timestamp to datetime.\n",
    "datetime.fromtimestamp(1617836400.0)"
   ]
  },
  {
   "cell_type": "code",
   "execution_count": 7,
   "id": "5c6c223c",
   "metadata": {},
   "outputs": [
    {
     "data": {
      "text/plain": [
       "'08/04/2021'"
      ]
     },
     "execution_count": 7,
     "metadata": {},
     "output_type": "execute_result"
    }
   ],
   "source": [
    "# float/timestamp to a string.\n",
    "datetime.fromtimestamp(1617836400.0).strftime('%d/%m/%Y')"
   ]
  },
  {
   "cell_type": "code",
   "execution_count": 16,
   "id": "78ef58a4",
   "metadata": {},
   "outputs": [
    {
     "data": {
      "text/plain": [
       "datetime.datetime(2022, 11, 26, 1, 34, tzinfo=<DstTzInfo 'Asia/Tokyo' JST+9:00:00 STD>)"
      ]
     },
     "execution_count": 16,
     "metadata": {},
     "output_type": "execute_result"
    }
   ],
   "source": [
    "# from one timezone to another.\n",
    "from pytz import timezone\n",
    "ny_time = datetime.strptime('25-11-2022  09:34:00-0700', '%d-%m-%Y  %H:%M:%S%f%z')\n",
    "Tokyo_time = ny_time.astimezone(timezone('Asia/Tokyo'))\n",
    "Tokyo_time"
   ]
  },
  {
   "cell_type": "code",
   "execution_count": 22,
   "id": "902cc9f5",
   "metadata": {},
   "outputs": [
    {
     "data": {
      "text/plain": [
       "'08:00 PM'"
      ]
     },
     "execution_count": 22,
     "metadata": {},
     "output_type": "execute_result"
    }
   ],
   "source": [
    "# 24hrs  to a 12hrs format.\n",
    "datetime.strptime('20:00', '%H:%M').strftime(\"%I:%M %p\")"
   ]
  },
  {
   "cell_type": "code",
   "execution_count": 21,
   "id": "f102dfe7",
   "metadata": {},
   "outputs": [
    {
     "data": {
      "text/plain": [
       "'20:00'"
      ]
     },
     "execution_count": 21,
     "metadata": {},
     "output_type": "execute_result"
    }
   ],
   "source": [
    "# from 12hrs to a 24hrs format.\n",
    "datetime.strptime('08:00 PM', '%I:%M  %p').strftime('%H:%M')"
   ]
  },
  {
   "cell_type": "markdown",
   "id": "cedb9410",
   "metadata": {},
   "source": [
    "## Datetime in NumPy and Pandas."
   ]
  },
  {
   "cell_type": "code",
   "execution_count": 23,
   "id": "4294643c",
   "metadata": {},
   "outputs": [],
   "source": [
    "# import the library and packages.\n",
    "import pandas as pd\n",
    "import numpy as np"
   ]
  },
  {
   "cell_type": "code",
   "execution_count": 24,
   "id": "46aa4fcb",
   "metadata": {},
   "outputs": [
    {
     "data": {
      "text/plain": [
       "0    2023-01-20\n",
       "1    2023-04-27\n",
       "2    2023-06-15\n",
       "dtype: object"
      ]
     },
     "execution_count": 24,
     "metadata": {},
     "output_type": "execute_result"
    }
   ],
   "source": [
    "data = ['2023-01-20', '2023-04-27', '2023-06-15']\n",
    "my_series = pd.Series(data)\n",
    "my_series"
   ]
  },
  {
   "cell_type": "code",
   "execution_count": 25,
   "id": "603cf95c",
   "metadata": {},
   "outputs": [
    {
     "data": {
      "text/plain": [
       "0   2023-01-20\n",
       "1   2023-04-27\n",
       "2   2023-06-15\n",
       "dtype: datetime64[ns]"
      ]
     },
     "execution_count": 25,
     "metadata": {},
     "output_type": "execute_result"
    }
   ],
   "source": [
    "# converting the dates in my_series to datetime.\n",
    "my_series = pd.to_datetime(my_series)\n",
    "my_series"
   ]
  },
  {
   "cell_type": "code",
   "execution_count": 28,
   "id": "1a7885b7",
   "metadata": {},
   "outputs": [
    {
     "name": "stdout",
     "output_type": "stream",
     "text": [
      "0    2023\n",
      "1    2023\n",
      "2    2023\n",
      "dtype: int64\n",
      "0    1\n",
      "1    4\n",
      "2    6\n",
      "dtype: int64\n",
      "0    20\n",
      "1    27\n",
      "2    15\n",
      "dtype: int64\n"
     ]
    }
   ],
   "source": [
    "# when a series contains datetime data, U can use dt to access various properties of the data.\n",
    "print(my_series.dt.year)\n",
    "print(my_series.dt.month)\n",
    "# print(my_series.dt.month_name)\n",
    "print(my_series.dt.day)"
   ]
  },
  {
   "cell_type": "code",
   "execution_count": null,
   "id": "85c56795",
   "metadata": {},
   "outputs": [],
   "source": []
  }
 ],
 "metadata": {
  "kernelspec": {
   "display_name": "Python 3 (ipykernel)",
   "language": "python",
   "name": "python3"
  },
  "language_info": {
   "codemirror_mode": {
    "name": "ipython",
    "version": 3
   },
   "file_extension": ".py",
   "mimetype": "text/x-python",
   "name": "python",
   "nbconvert_exporter": "python",
   "pygments_lexer": "ipython3",
   "version": "3.11.5"
  }
 },
 "nbformat": 4,
 "nbformat_minor": 5
}
