{
 "cells": [
  {
   "cell_type": "markdown",
   "id": "ee9c1f29",
   "metadata": {},
   "source": [
    "## Combine Data.\n",
    "You can use a number of different functions, methods, or approaches to combine data. You're not limited to a single 'correct' function. Determine what works best for you, understand it and use it."
   ]
  },
  {
   "cell_type": "code",
   "execution_count": null,
   "id": "6e88b050",
   "metadata": {},
   "outputs": [],
   "source": [
    "# df.merge()\n",
    "# used to take columns or indices from other dfs and combining them with the one to which\n",
    "# you're applying the method.\n",
    "df1.merge(df2, how='inner', on=['month', 'year'])"
   ]
  },
  {
   "cell_type": "code",
   "execution_count": null,
   "id": "39e58d9d",
   "metadata": {},
   "outputs": [],
   "source": [
    "# pd.concat()\n",
    "# use to combine a series and/or a df along particular axis.\n",
    "df3 = pd.concat([df1.drop(['column_1', 'column_2'], axis=1), df2])"
   ]
  },
  {
   "cell_type": "code",
   "execution_count": null,
   "id": "2b4b2d71",
   "metadata": {},
   "outputs": [],
   "source": [
    "# df.join() - a method availab;e to the df class.\n",
    "# combine colmns with another df either on an index or on a key colmn.\n",
    "# efficiently join multiple df objects by index at once by passing a list\n",
    "df1.set_index('key').join(df2.set('key'))"
   ]
  },
  {
   "cell_type": "markdown",
   "id": "01df484b",
   "metadata": {},
   "source": [
    "## Extract or select data.\n"
   ]
  },
  {
   "cell_type": "code",
   "execution_count": null,
   "id": "90d1944d",
   "metadata": {},
   "outputs": [],
   "source": [
    "# df[[columns]] - use to extract/select columns from a df.\n",
    "print(df)\n",
    "print()\n",
    "df[['animal', 'legs']]"
   ]
  },
  {
   "cell_type": "code",
   "execution_count": null,
   "id": "0df3a5df",
   "metadata": {},
   "outputs": [],
   "source": [
    "# df.select_dtypes\n",
    "# avail on dfs. returns a subset of dfs based on the columns dtypes.\n",
    "df2 = df.select_dtypes(['int64'])"
   ]
  },
  {
   "cell_type": "markdown",
   "id": "97efffbc",
   "metadata": {},
   "source": [
    "## Filter data.\n",
    "Boolean masking.\n",
    "- Use df[condition] - to create a boolean mask, then apply the mask to the df to filter according to selected condition."
   ]
  },
  {
   "cell_type": "code",
   "execution_count": null,
   "id": "7f92308e",
   "metadata": {},
   "outputs": [],
   "source": [
    "df[df['class'] == 'Aves']"
   ]
  },
  {
   "cell_type": "markdown",
   "id": "10a791dc",
   "metadata": {},
   "source": [
    "## Sort data."
   ]
  },
  {
   "cell_type": "code",
   "execution_count": null,
   "id": "04748f27",
   "metadata": {},
   "outputs": [],
   "source": [
    "# pd.sort_values() - avail df class.\n",
    "# sort data according to selected parameters.\n",
    "df.sort_values(by=['legs'], ascending=False)"
   ]
  },
  {
   "cell_type": "markdown",
   "id": "99c3349a",
   "metadata": {},
   "source": [
    "## Slice data."
   ]
  },
  {
   "cell_type": "code",
   "execution_count": null,
   "id": "756a093a",
   "metadata": {},
   "outputs": [],
   "source": [
    "# df.iloc[]\n",
    "# slice a df based on an int index location.\n",
    "df.iloc[5:10, 2:] # select only rows 5 through 9, at columns 2+.\n",
    "df.iloc[5:10] # select only rows 5 through 9.\n",
    "df.iloc[1,2] # select values at rows 1 columns 2.\n",
    "df.iloc[[0, 2], [2, 4]] # select only rows 0 and 2, at columns 2 and 4."
   ]
  },
  {
   "cell_type": "code",
   "execution_count": null,
   "id": "bafe91da",
   "metadata": {},
   "outputs": [],
   "source": [
    "# df.loc[] - to slice a df based on a label or boolean array.\n",
    "df.loc[:, ['color', 'class']]"
   ]
  },
  {
   "cell_type": "code",
   "execution_count": null,
   "id": "7eeb8e20",
   "metadata": {},
   "outputs": [],
   "source": []
  }
 ],
 "metadata": {
  "kernelspec": {
   "display_name": "Python 3 (ipykernel)",
   "language": "python",
   "name": "python3"
  },
  "language_info": {
   "codemirror_mode": {
    "name": "ipython",
    "version": 3
   },
   "file_extension": ".py",
   "mimetype": "text/x-python",
   "name": "python",
   "nbconvert_exporter": "python",
   "pygments_lexer": "ipython3",
   "version": "3.10.9"
  }
 },
 "nbformat": 4,
 "nbformat_minor": 5
}
