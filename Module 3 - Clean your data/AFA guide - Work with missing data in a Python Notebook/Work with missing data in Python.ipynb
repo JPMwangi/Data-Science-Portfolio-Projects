{
 "cells": [
  {
   "cell_type": "markdown",
   "id": "5e87e19d",
   "metadata": {},
   "source": [
    "# Work with missing data in Python.\n",
    "How to identify and decide how to work with missing data in a Python Notebook.\n",
    "- Data \n",
    "    - the group of NOAA lighning strike data sets. 2 slices of data from Aug 2018.\n",
    "- Goal:\n",
    "    - How to identify missing data.\n",
    "    - You'll learn through comparisons of these 2 data sets, how to find missing data."
   ]
  },
  {
   "cell_type": "code",
   "execution_count": 1,
   "id": "36ab7120",
   "metadata": {},
   "outputs": [],
   "source": [
    "# import Python libraries and packages.\n",
    "import numpy as np\n",
    "import pandas as pd\n",
    "import seaborn as sns\n",
    "import datetime\n",
    "from matplotlib import pyplot as plt"
   ]
  },
  {
   "cell_type": "code",
   "execution_count": null,
   "id": "090c1c4b",
   "metadata": {},
   "outputs": [],
   "source": [
    "# import the first dataset\n",
    "df = pd.read_csv('put the first dataset here.')"
   ]
  },
  {
   "cell_type": "markdown",
   "id": "1d33af54",
   "metadata": {},
   "source": [
    "### Look only at the number of lightning strikes of August 2018."
   ]
  },
  {
   "cell_type": "code",
   "execution_count": null,
   "id": "00449c86",
   "metadata": {},
   "outputs": [],
   "source": [
    "# lets explore the column pandas and the overall size of the first dataset.\n",
    "df.head()\n",
    "\n",
    "# overall size of the dataset.\n",
    "df.shape"
   ]
  },
  {
   "cell_type": "code",
   "execution_count": null,
   "id": "04c900d6",
   "metadata": {},
   "outputs": [],
   "source": [
    "# we'll use the second dataset for August 2018.\n",
    "df_zip = pd.read_csv('place df2 here')"
   ]
  },
  {
   "cell_type": "code",
   "execution_count": null,
   "id": "fa0db572",
   "metadata": {},
   "outputs": [],
   "source": [
    "# explore the column and the overall size of the 2nd df.\n",
    "df_zip.head()\n",
    "df_zip.shape"
   ]
  },
  {
   "cell_type": "code",
   "execution_count": null,
   "id": "0898e6be",
   "metadata": {},
   "outputs": [],
   "source": [
    "# lets merge the 2 dfs together.\n",
    "df_joined = df.merge(df_zip, how='left', on=['date', 'center_point_geom'])"
   ]
  },
  {
   "cell_type": "code",
   "execution_count": null,
   "id": "fe296453",
   "metadata": {},
   "outputs": [],
   "source": [
    "# explore the dataset.\n",
    "df_joined.head()"
   ]
  },
  {
   "cell_type": "code",
   "execution_count": null,
   "id": "6fcbedaa",
   "metadata": {},
   "outputs": [],
   "source": [
    "# to search for missing data.\n",
    "df_joined.describe()"
   ]
  },
  {
   "cell_type": "code",
   "execution_count": null,
   "id": "d015e82d",
   "metadata": {},
   "outputs": [],
   "source": [
    "# find the total amount of data that's missing using this code.\n",
    "df_null_geo = df_joined[pd.isnull(df_joined.state_code)]\n",
    "df_null_geo.shape # total rows and columns that are null."
   ]
  },
  {
   "cell_type": "code",
   "execution_count": null,
   "id": "49637120",
   "metadata": {},
   "outputs": [],
   "source": [
    "# for more info\n",
    "df_null_geo.info()"
   ]
  },
  {
   "cell_type": "code",
   "execution_count": null,
   "id": "e1bd5637",
   "metadata": {},
   "outputs": [],
   "source": [
    "# lets look at what values are missing in our df.\n",
    "df_null_geo.head()"
   ]
  },
  {
   "cell_type": "markdown",
   "id": "4c1ee0cc",
   "metadata": {},
   "source": [
    "## Learn how these missing values impact our data.\n",
    "How? By creating a data visualization.\n",
    "- A plotted map will help us see where the majority of the missing values are located geographically."
   ]
  },
  {
   "cell_type": "code",
   "execution_count": null,
   "id": "5ed7c9f2",
   "metadata": {},
   "outputs": [],
   "source": [
    "# to design the map, lets create another df.\n",
    "top_missing = df_null_geo[['latitude', 'longitude', 'number_of_strikes_x']\n",
    "                         ].groupby(['latitude', 'longitude']\n",
    "                                  ).sum().sort_values('number_of_strikes_x', ascending=False).reset_index()\n",
    "top_missing.head(10)"
   ]
  },
  {
   "cell_type": "code",
   "execution_count": null,
   "id": "0a309992",
   "metadata": {},
   "outputs": [],
   "source": [
    "# lets plot the missing data.\n",
    "import plotly.express as px\n",
    "\n",
    "fig = px.scatter_geo(top_missing[top_missing.number_of_strikes_x>=300],\n",
    "                    lat='latitude',\n",
    "                    lon='longitude',\n",
    "                    size='number_of_strikes_x')\n",
    "fig.update_layout(\n",
    "    title_text = 'Missing data',\n",
    ")\n",
    "\n",
    "fig.show()"
   ]
  },
  {
   "cell_type": "code",
   "execution_count": null,
   "id": "e273767a",
   "metadata": {},
   "outputs": [],
   "source": [
    "# lets plot the data on smaller scale, limit the geographic scope.\n",
    "# this shows missing data on the borders or in spots over bodies of water like lakes.\n",
    "import plotly.express as px\n",
    "\n",
    "fig = px.scatter_geo(top_missing[top_missing.number_of_strikes_x>=300],\n",
    "                    lat='latitude',\n",
    "                    lon='longitude',\n",
    "                    size='number_of_strikes_x')\n",
    "fig.update_layout(\n",
    "    title_text = 'Missing data',\n",
    "    geo_scope='usa',\n",
    ")\n",
    "\n",
    "fig.show()"
   ]
  },
  {
   "cell_type": "markdown",
   "id": "2aef99f6",
   "metadata": {},
   "source": [
    " Given that the missing data occurs where there are no zip codes, it makes sense that it occurs around borders near bodies of water. You'll also notice that some other locations with missing data that are not over bodies of water. They are on land. Here, you'll need to reach out to the NOAA about."
   ]
  },
  {
   "cell_type": "code",
   "execution_count": null,
   "id": "41c457c6",
   "metadata": {},
   "outputs": [],
   "source": []
  },
  {
   "cell_type": "code",
   "execution_count": null,
   "id": "75353223",
   "metadata": {},
   "outputs": [],
   "source": []
  }
 ],
 "metadata": {
  "kernelspec": {
   "display_name": "Python 3 (ipykernel)",
   "language": "python",
   "name": "python3"
  },
  "language_info": {
   "codemirror_mode": {
    "name": "ipython",
    "version": 3
   },
   "file_extension": ".py",
   "mimetype": "text/x-python",
   "name": "python",
   "nbconvert_exporter": "python",
   "pygments_lexer": "ipython3",
   "version": "3.11.5"
  }
 },
 "nbformat": 4,
 "nbformat_minor": 5
}
