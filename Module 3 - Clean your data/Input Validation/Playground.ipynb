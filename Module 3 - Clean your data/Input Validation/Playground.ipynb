{
 "cells": [
  {
   "cell_type": "code",
   "execution_count": 1,
   "id": "e909b958",
   "metadata": {},
   "outputs": [],
   "source": [
    "# replacement_dict = {'P':' ', 'O':' ', 'I':' ', 'N':' ', 'T':' ', '(':' ', ')':' '}\n",
    "\n",
    "# companies_sampled['valuation_billions'].str.replace('$', '')"
   ]
  },
  {
   "cell_type": "code",
   "execution_count": null,
   "id": "67094c1b",
   "metadata": {},
   "outputs": [],
   "source": [
    "# Create a column representing company valuation as numeric data\n",
    "companies_sampled['valuation_billions'] = companies_sampled['Valuation']\n",
    "\n",
    "# remove the $\n",
    "companies_sampled['valuation_billions'] = companies_sampled['valuation_billions'].str.replace('$', '')\n",
    "\n",
    "# remove the B\n",
    "companies_sampled['valuation_billions'] = companies_sampled['valuation_billions'].str.replace('B', '')\n",
    "\n",
    "# convert the column into an integer.\n",
    "companies_sampled['valuation_billions'] = companies_sampled['valuation_billions'].astype('int')\n",
    "\n",
    "# head()\n",
    "companies_sampled.head()"
   ]
  },
  {
   "cell_type": "code",
   "execution_count": 14,
   "id": "fb41598b",
   "metadata": {},
   "outputs": [
    {
     "data": {
      "text/plain": [
       "-75"
      ]
     },
     "execution_count": 14,
     "metadata": {},
     "output_type": "execute_result"
    }
   ],
   "source": [
    "x = [-75,27]\n",
    "x[0]"
   ]
  },
  {
   "cell_type": "code",
   "execution_count": 3,
   "id": "e22ba430",
   "metadata": {},
   "outputs": [],
   "source": [
    "# df['longitude'] = df['center_point_geom'].strip"
   ]
  },
  {
   "cell_type": "code",
   "execution_count": 4,
   "id": "3c9e40e1",
   "metadata": {},
   "outputs": [
    {
     "data": {
      "text/plain": [
       "'75 27'"
      ]
     },
     "execution_count": 4,
     "metadata": {},
     "output_type": "execute_result"
    }
   ],
   "source": [
    "x = '(-75 27)'.strip('()-')\n",
    "x"
   ]
  },
  {
   "cell_type": "code",
   "execution_count": 5,
   "id": "a38ff78a",
   "metadata": {},
   "outputs": [
    {
     "data": {
      "text/plain": [
       "'7'"
      ]
     },
     "execution_count": 5,
     "metadata": {},
     "output_type": "execute_result"
    }
   ],
   "source": [
    "x[0]"
   ]
  },
  {
   "cell_type": "code",
   "execution_count": 5,
   "id": "a623f27f",
   "metadata": {},
   "outputs": [],
   "source": [
    "# 'POINT(-75 27)'.strip('POINT()')"
   ]
  },
  {
   "cell_type": "code",
   "execution_count": 10,
   "id": "77fca610",
   "metadata": {},
   "outputs": [
    {
     "data": {
      "text/plain": [
       "str"
      ]
     },
     "execution_count": 10,
     "metadata": {},
     "output_type": "execute_result"
    }
   ],
   "source": [
    "# str(x)\n",
    "type(str(x))\n",
    "# x.split(',')"
   ]
  },
  {
   "cell_type": "code",
   "execution_count": 13,
   "id": "9ee9b486",
   "metadata": {},
   "outputs": [
    {
     "name": "stdout",
     "output_type": "stream",
     "text": [
      "['1', '2', '3']\n"
     ]
    },
    {
     "data": {
      "text/plain": [
       "'123'"
      ]
     },
     "execution_count": 13,
     "metadata": {},
     "output_type": "execute_result"
    }
   ],
   "source": [
    "x = '123'\n",
    "print(list(x))\n",
    "x"
   ]
  },
  {
   "cell_type": "code",
   "execution_count": 16,
   "id": "73e108f2",
   "metadata": {},
   "outputs": [
    {
     "data": {
      "text/plain": [
       "'-75,27'"
      ]
     },
     "execution_count": 16,
     "metadata": {},
     "output_type": "execute_result"
    }
   ],
   "source": [
    "'[-75,27]'.strip('[ ]')"
   ]
  },
  {
   "cell_type": "code",
   "execution_count": 33,
   "id": "c7c113d0",
   "metadata": {},
   "outputs": [],
   "source": [
    "import pandas as pd"
   ]
  },
  {
   "cell_type": "code",
   "execution_count": 43,
   "id": "5fc4897b",
   "metadata": {},
   "outputs": [
    {
     "data": {
      "text/plain": [
       "'POINT(-65.9 39.4)'"
      ]
     },
     "execution_count": 43,
     "metadata": {},
     "output_type": "execute_result"
    }
   ],
   "source": [
    "s = 'POINT(-65.9 39.4)'\n",
    "s"
   ]
  },
  {
   "cell_type": "code",
   "execution_count": 47,
   "id": "e588ee2c",
   "metadata": {},
   "outputs": [
    {
     "data": {
      "text/plain": [
       "'POINT(-65.9 39.4)'"
      ]
     },
     "execution_count": 47,
     "metadata": {},
     "output_type": "execute_result"
    }
   ],
   "source": [
    "s.strip('POINT')\n",
    "s"
   ]
  },
  {
   "cell_type": "code",
   "execution_count": 49,
   "id": "62d055e6",
   "metadata": {},
   "outputs": [
    {
     "data": {
      "text/plain": [
       "0   -75\n",
       "1    27\n",
       "dtype: int64"
      ]
     },
     "execution_count": 49,
     "metadata": {},
     "output_type": "execute_result"
    }
   ],
   "source": [
    "c = [-75, 27]\n",
    "c = pd.Series(c)\n",
    "c"
   ]
  },
  {
   "cell_type": "code",
   "execution_count": 50,
   "id": "383889ea",
   "metadata": {},
   "outputs": [
    {
     "data": {
      "text/plain": [
       "-75"
      ]
     },
     "execution_count": 50,
     "metadata": {},
     "output_type": "execute_result"
    }
   ],
   "source": [
    "x = (-75, 27)\n",
    "x[0]"
   ]
  },
  {
   "cell_type": "code",
   "execution_count": 60,
   "id": "9377abbb",
   "metadata": {},
   "outputs": [
    {
     "data": {
      "text/plain": [
       "'POINT(-87.8 30.6)'"
      ]
     },
     "execution_count": 60,
     "metadata": {},
     "output_type": "execute_result"
    }
   ],
   "source": [
    "x = 'POINT(-87.8 30.6)'\n",
    "x"
   ]
  },
  {
   "cell_type": "code",
   "execution_count": 58,
   "id": "f56d088f",
   "metadata": {},
   "outputs": [
    {
     "data": {
      "text/plain": [
       "'-87.8'"
      ]
     },
     "execution_count": 58,
     "metadata": {},
     "output_type": "execute_result"
    }
   ],
   "source": [
    "x.split(' ')[0].strip('POINT(')"
   ]
  },
  {
   "cell_type": "code",
   "execution_count": 59,
   "id": "cc6dbd4b",
   "metadata": {},
   "outputs": [
    {
     "data": {
      "text/plain": [
       "'30.6'"
      ]
     },
     "execution_count": 59,
     "metadata": {},
     "output_type": "execute_result"
    }
   ],
   "source": [
    "x.split(' ')[1].strip(')')"
   ]
  },
  {
   "cell_type": "code",
   "execution_count": null,
   "id": "5d686b04",
   "metadata": {},
   "outputs": [],
   "source": []
  }
 ],
 "metadata": {
  "kernelspec": {
   "display_name": "Python 3 (ipykernel)",
   "language": "python",
   "name": "python3"
  },
  "language_info": {
   "codemirror_mode": {
    "name": "ipython",
    "version": 3
   },
   "file_extension": ".py",
   "mimetype": "text/x-python",
   "name": "python",
   "nbconvert_exporter": "python",
   "pygments_lexer": "ipython3",
   "version": "3.11.5"
  }
 },
 "nbformat": 4,
 "nbformat_minor": 5
}
